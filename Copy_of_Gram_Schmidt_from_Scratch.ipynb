{
  "nbformat": 4,
  "nbformat_minor": 0,
  "metadata": {
    "colab": {
      "provenance": [],
      "authorship_tag": "ABX9TyNI+dAuRMAcZWVaPkPBneAh",
      "include_colab_link": true
    },
    "kernelspec": {
      "name": "python3",
      "display_name": "Python 3"
    },
    "language_info": {
      "name": "python"
    }
  },
  "cells": [
    {
      "cell_type": "markdown",
      "metadata": {
        "id": "view-in-github",
        "colab_type": "text"
      },
      "source": [
        "<a href=\"https://colab.research.google.com/github/Pickles91/Linear_Algebra_Coding_Projects/blob/main/Copy_of_Gram_Schmidt_from_Scratch.ipynb\" target=\"_parent\"><img src=\"https://colab.research.google.com/assets/colab-badge.svg\" alt=\"Open In Colab\"/></a>"
      ]
    },
    {
      "cell_type": "code",
      "execution_count": 25,
      "metadata": {
        "id": "ZdwrvW-T1EK3"
      },
      "outputs": [],
      "source": [
        "import matplotlib.pyplot as plt\n",
        "from sympy import Poly\n",
        "import sympy as sym\n",
        "import numpy as np\n",
        "from numpy import c_\n",
        "\n",
        "# We'll specify that x and t are variables:\n",
        "x, t = sym.symbols('x, t')\n",
        "\n",
        "ll = \"loaded\""
      ]
    },
    {
      "cell_type": "markdown",
      "source": [
        "# Let's figure out how to do vector operations:"
      ],
      "metadata": {
        "id": "cKyP4gqB1cxb"
      }
    },
    {
      "cell_type": "code",
      "source": [
        "# create a vector:\n",
        "r1= np.array([1,2,3])\n",
        "r1"
      ],
      "metadata": {
        "colab": {
          "base_uri": "https://localhost:8080/"
        },
        "id": "G0BENF6Y10_C",
        "outputId": "41b71cd8-d3fc-42ca-9453-15fbfdfe646c"
      },
      "execution_count": 26,
      "outputs": [
        {
          "output_type": "execute_result",
          "data": {
            "text/plain": [
              "array([1, 2, 3])"
            ]
          },
          "metadata": {},
          "execution_count": 26
        }
      ]
    },
    {
      "cell_type": "code",
      "source": [
        "# Vector Arithmetic:\n",
        "-3 * r1"
      ],
      "metadata": {
        "colab": {
          "base_uri": "https://localhost:8080/"
        },
        "id": "a8Mjbq372jPJ",
        "outputId": "c485a3d8-e62e-4006-fe43-5279314a5a66"
      },
      "execution_count": 27,
      "outputs": [
        {
          "output_type": "execute_result",
          "data": {
            "text/plain": [
              "array([-3, -6, -9])"
            ]
          },
          "metadata": {},
          "execution_count": 27
        }
      ]
    },
    {
      "cell_type": "code",
      "source": [
        "# Vector dot products\n",
        "r1.dot(r1)"
      ],
      "metadata": {
        "colab": {
          "base_uri": "https://localhost:8080/"
        },
        "id": "4XLweAdE2zXM",
        "outputId": "577f05e0-4533-4652-bea9-64b6e9837f0e"
      },
      "execution_count": 28,
      "outputs": [
        {
          "output_type": "execute_result",
          "data": {
            "text/plain": [
              "14"
            ]
          },
          "metadata": {},
          "execution_count": 28
        }
      ]
    },
    {
      "cell_type": "code",
      "source": [
        "# Magnitude\n",
        "np.sqrt(r1.dot(r1))"
      ],
      "metadata": {
        "colab": {
          "base_uri": "https://localhost:8080/"
        },
        "id": "HbwjMKnt2_83",
        "outputId": "673e03db-4e3a-45dd-92c0-00fafbfba4ad"
      },
      "execution_count": 29,
      "outputs": [
        {
          "output_type": "execute_result",
          "data": {
            "text/plain": [
              "3.7416573867739413"
            ]
          },
          "metadata": {},
          "execution_count": 29
        }
      ]
    },
    {
      "cell_type": "markdown",
      "source": [
        "# # Implement Gram Schmidt on 4 vectors"
      ],
      "metadata": {
        "id": "tseuBPKe4UGU"
      }
    },
    {
      "cell_type": "code",
      "source": [
        "# Original , Random Vectors\n",
        "r1 = np.array([3,0,3,0])\n",
        "r2 = np.array([3,2,3,3])\n",
        "r3 = np.array([-7,-4,-5,-6])\n",
        "r4 = np.array([-7,-3,-11,2])"
      ],
      "metadata": {
        "id": "cicH6hru5EZM"
      },
      "execution_count": 30,
      "outputs": []
    },
    {
      "cell_type": "code",
      "source": [
        "print(\"The first random vector is: \" , r1)"
      ],
      "metadata": {
        "colab": {
          "base_uri": "https://localhost:8080/"
        },
        "id": "M3RbzuqB5iVy",
        "outputId": "f7befbd0-99a3-4c85-f2a9-6a94f0b76845"
      },
      "execution_count": 31,
      "outputs": [
        {
          "output_type": "stream",
          "name": "stdout",
          "text": [
            "The first random vector is:  [3 0 3 0]\n"
          ]
        }
      ]
    },
    {
      "cell_type": "markdown",
      "source": [
        "# Process $r_{1}$"
      ],
      "metadata": {
        "id": "3paZwspk5uqg"
      }
    },
    {
      "cell_type": "code",
      "source": [
        "# Choose the r1 vector and subtract off the \"Nice\" Orthogonal piece\n",
        "t1 = r1\n",
        "print(\"t1 = \", t1)\n",
        "\n",
        "# Find the size(magnitude) of t1:\n",
        "m = np.sqrt(t1.dot(t1))\n",
        "print(\"The size (magnitude) of t1 is \", m)\n",
        "\n",
        "#The nice vector is u1 = t1 / m:\n",
        "u1 = (1/m)*t1\n",
        "print(\"the nice vector is u1 = \", u1)"
      ],
      "metadata": {
        "colab": {
          "base_uri": "https://localhost:8080/"
        },
        "id": "cSKlivnN55XZ",
        "outputId": "a262b0cf-88b8-437d-8b4b-af4fe0e30fc9"
      },
      "execution_count": 32,
      "outputs": [
        {
          "output_type": "stream",
          "name": "stdout",
          "text": [
            "t1 =  [3 0 3 0]\n",
            "The size (magnitude) of t1 is  4.242640687119285\n",
            "the nice vector is u1 =  [0.70710678 0.         0.70710678 0.        ]\n"
          ]
        }
      ]
    },
    {
      "cell_type": "code",
      "source": [
        "# Sanity check:\n",
        "print(\"the size of u1 = \", np.sqrt(u1.dot(u1)))"
      ],
      "metadata": {
        "colab": {
          "base_uri": "https://localhost:8080/"
        },
        "id": "WL0xojCy7iHg",
        "outputId": "72f2251d-3e3d-4060-f516-e4c03fcbad5c"
      },
      "execution_count": 33,
      "outputs": [
        {
          "output_type": "stream",
          "name": "stdout",
          "text": [
            "the size of u1 =  1.0\n"
          ]
        }
      ]
    },
    {
      "cell_type": "markdown",
      "source": [
        "# Process $r_{2}$"
      ],
      "metadata": {
        "id": "7CaWWioT7uSG"
      }
    },
    {
      "cell_type": "code",
      "source": [
        "# Choose the r2 vector and subtract off the \"Nice\" Orthogonal piece\n",
        "t2 = r2 - (r2.dot(u1) * u1)\n",
        "print(\"t2 = \", t2)\n",
        "\n",
        "# Find the size(magnitude) of t1:\n",
        "m = np.sqrt(t2.dot(t2))\n",
        "print(\"The magnitude of t2 is \", m)\n",
        "\n",
        "#The nice vector is u2 = t2 / m:\n",
        "u2 = t2/m\n",
        "print(\"the nice vector is u2 = \", u2)"
      ],
      "metadata": {
        "colab": {
          "base_uri": "https://localhost:8080/"
        },
        "id": "qdgHMGzJ7zLn",
        "outputId": "1ebf0c63-b197-4302-9946-9afbfdbdd5d5"
      },
      "execution_count": 34,
      "outputs": [
        {
          "output_type": "stream",
          "name": "stdout",
          "text": [
            "t2 =  [-4.4408921e-16  2.0000000e+00 -4.4408921e-16  3.0000000e+00]\n",
            "The magnitude of t2 is  3.605551275463989\n",
            "the nice vector is u2 =  [-1.23168186e-16  5.54700196e-01 -1.23168186e-16  8.32050294e-01]\n"
          ]
        }
      ]
    },
    {
      "cell_type": "code",
      "source": [
        "# Sanity check:\n",
        "print(\"the size(magnitude) of u2 = \", np.sqrt(u2.dot(u2)))"
      ],
      "metadata": {
        "colab": {
          "base_uri": "https://localhost:8080/"
        },
        "id": "4dlQBrrk9fVn",
        "outputId": "f6ba4738-9d3e-4855-d4cb-137de55e6d81"
      },
      "execution_count": 35,
      "outputs": [
        {
          "output_type": "stream",
          "name": "stdout",
          "text": [
            "the size(magnitude) of u2 =  1.0\n"
          ]
        }
      ]
    },
    {
      "cell_type": "code",
      "source": [
        "# Sanity check:\n",
        "print(\"the size(magnitude) of u1 = \", np.sqrt(u1.dot(u1)))\n",
        "print(\"the size(magnitude) of u2 = \", np.sqrt(u2.dot(u2)))\n",
        "\n",
        "print(\"u1 . u2\", u1.dot(u2))"
      ],
      "metadata": {
        "colab": {
          "base_uri": "https://localhost:8080/"
        },
        "id": "gKIa6O-f8zq6",
        "outputId": "3125df04-4380-4d51-f93c-8c3f7c19d4fe"
      },
      "execution_count": 36,
      "outputs": [
        {
          "output_type": "stream",
          "name": "stdout",
          "text": [
            "the size(magnitude) of u1 =  1.0\n",
            "the size(magnitude) of u2 =  1.0\n",
            "u1 . u2 -1.741861189847285e-16\n"
          ]
        }
      ]
    },
    {
      "cell_type": "markdown",
      "source": [
        "# Process $r_{3}$"
      ],
      "metadata": {
        "id": "_TzfZPoPNc-u"
      }
    },
    {
      "cell_type": "code",
      "source": [
        "# Choose the r3 vector and subtract off the \"Nice\" Orthogonal piece\n",
        "t3 = r3 - (r3.dot(u2) * u2 -r3.dot(u1) * u1)\n",
        "print(\"t3 = \", t3)\n",
        "\n",
        "# Find the size(magnitude) of t1:\n",
        "m = np.sqrt(t3.dot(t3))\n",
        "print(\"The magnitude of t2 is \", m)\n",
        "\n",
        "#The nice vector is u2 = t2 / m:\n",
        "u3 = t3/m\n",
        "print(\"the nice vector is u3 = \", u3)"
      ],
      "metadata": {
        "colab": {
          "base_uri": "https://localhost:8080/"
        },
        "outputId": "54786f47-fc24-4790-94eb-065050246515",
        "id": "aEVm7ktKNn8G"
      },
      "execution_count": 40,
      "outputs": [
        {
          "output_type": "stream",
          "name": "stdout",
          "text": [
            "t3 =  [-1.3000000e+01 -4.4408921e-16 -1.1000000e+01 -8.8817842e-16]\n",
            "The magnitude of t2 is  17.029386365926406\n",
            "the nice vector is u3 =  [-7.63386285e-01 -2.60778163e-17 -6.45942241e-01 -5.21556327e-17]\n"
          ]
        }
      ]
    },
    {
      "cell_type": "code",
      "source": [
        "# Sanity check:\n",
        "print(\"the size(magnitude) of u3 = \", np.sqrt(u3.dot(u3)))"
      ],
      "metadata": {
        "colab": {
          "base_uri": "https://localhost:8080/"
        },
        "id": "oojc4YwfOFPg",
        "outputId": "de7a94a7-5b09-437f-8ad9-1b44e679511e"
      },
      "execution_count": 41,
      "outputs": [
        {
          "output_type": "stream",
          "name": "stdout",
          "text": [
            "the size(magnitude) of u3 =  0.9999999999999999\n"
          ]
        }
      ]
    },
    {
      "cell_type": "code",
      "source": [
        "# Sanity check:\n",
        "print(\"the size(magnitude) of u1 = \", np.sqrt(u1.dot(u1)))\n",
        "print(\"the size(magnitude) of u2 = \", np.sqrt(u2.dot(u2)))\n",
        "print(\"the size(magnitude) of u3 = \", np.sqrt(u3.dot(u3)))\n",
        "\n",
        "print(\"u1 . u2\", u1.dot(u2))"
      ],
      "metadata": {
        "colab": {
          "base_uri": "https://localhost:8080/"
        },
        "id": "btsuIs20ONlQ",
        "outputId": "dc02588b-683c-4ccf-b435-0d472af841df"
      },
      "execution_count": 39,
      "outputs": [
        {
          "output_type": "stream",
          "name": "stdout",
          "text": [
            "the size(magnitude) of u1 =  1.0\n",
            "the size(magnitude) of u2 =  1.0\n",
            "the size(magnitude) of u3 =  0.9999999999999999\n",
            "u1 . u2 -1.741861189847285e-16\n"
          ]
        }
      ]
    }
  ]
}