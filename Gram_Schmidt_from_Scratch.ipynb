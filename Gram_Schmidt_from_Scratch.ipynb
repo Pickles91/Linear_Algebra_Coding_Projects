{
  "nbformat": 4,
  "nbformat_minor": 0,
  "metadata": {
    "colab": {
      "provenance": [],
      "authorship_tag": "ABX9TyOGDfIHvcxSK/q6+c3JuVMF",
      "include_colab_link": true
    },
    "kernelspec": {
      "name": "python3",
      "display_name": "Python 3"
    },
    "language_info": {
      "name": "python"
    }
  },
  "cells": [
    {
      "cell_type": "markdown",
      "metadata": {
        "id": "view-in-github",
        "colab_type": "text"
      },
      "source": [
        "<a href=\"https://colab.research.google.com/github/Pickles91/Linear_Algebra_Coding_Projects/blob/main/Gram_Schmidt_from_Scratch.ipynb\" target=\"_parent\"><img src=\"https://colab.research.google.com/assets/colab-badge.svg\" alt=\"Open In Colab\"/></a>"
      ]
    },
    {
      "cell_type": "code",
      "execution_count": null,
      "metadata": {
        "id": "ZdwrvW-T1EK3"
      },
      "outputs": [],
      "source": [
        "import matplotlib.pyplot as plt\n",
        "from sympy import Poly\n",
        "import sympy as sym\n",
        "import numpy as np\n",
        "from numpy import c_\n",
        "\n",
        "# We'll specify that x and t are variables:\n",
        "x, t = sym.symbols('x, t')\n",
        "\n",
        "ll = \"loaded\""
      ]
    },
    {
      "cell_type": "markdown",
      "source": [
        "# Let's figure out how to do vector operations:"
      ],
      "metadata": {
        "id": "cKyP4gqB1cxb"
      }
    },
    {
      "cell_type": "code",
      "source": [
        "# create a vector:\n",
        "r1= np.array([1,2,3])\n",
        "r1"
      ],
      "metadata": {
        "colab": {
          "base_uri": "https://localhost:8080/"
        },
        "id": "G0BENF6Y10_C",
        "outputId": "f93b0ba1-d5d2-4df1-840f-a3297c402394"
      },
      "execution_count": null,
      "outputs": [
        {
          "output_type": "execute_result",
          "data": {
            "text/plain": [
              "array([1, 2, 3])"
            ]
          },
          "metadata": {},
          "execution_count": 2
        }
      ]
    },
    {
      "cell_type": "code",
      "source": [
        "# Vector Arithmetic:\n",
        "-3 * r1"
      ],
      "metadata": {
        "colab": {
          "base_uri": "https://localhost:8080/"
        },
        "id": "a8Mjbq372jPJ",
        "outputId": "9d3b567b-8000-43aa-fe2b-40c6e2fa7d64"
      },
      "execution_count": null,
      "outputs": [
        {
          "output_type": "execute_result",
          "data": {
            "text/plain": [
              "array([-3, -6, -9])"
            ]
          },
          "metadata": {},
          "execution_count": 3
        }
      ]
    },
    {
      "cell_type": "code",
      "source": [
        "# Vector dot products\n",
        "r1.dot(r1)"
      ],
      "metadata": {
        "colab": {
          "base_uri": "https://localhost:8080/"
        },
        "id": "4XLweAdE2zXM",
        "outputId": "2d28ce44-f90f-45ba-b47e-4e87dacd85ee"
      },
      "execution_count": null,
      "outputs": [
        {
          "output_type": "execute_result",
          "data": {
            "text/plain": [
              "14"
            ]
          },
          "metadata": {},
          "execution_count": 4
        }
      ]
    },
    {
      "cell_type": "code",
      "source": [
        "# Magnitude\n",
        "np.sqrt(r1.dot(r1))"
      ],
      "metadata": {
        "colab": {
          "base_uri": "https://localhost:8080/"
        },
        "id": "HbwjMKnt2_83",
        "outputId": "687a616e-d55c-4d22-d352-7887d88666a9"
      },
      "execution_count": null,
      "outputs": [
        {
          "output_type": "execute_result",
          "data": {
            "text/plain": [
              "3.7416573867739413"
            ]
          },
          "metadata": {},
          "execution_count": 5
        }
      ]
    },
    {
      "cell_type": "markdown",
      "source": [
        "# # Implement Gram Schmidt on 4 vectors"
      ],
      "metadata": {
        "id": "tseuBPKe4UGU"
      }
    },
    {
      "cell_type": "code",
      "source": [
        "# Original , Random Vectors\n",
        "r1 = np.array([3,0,3,0])\n",
        "r2 = np.array([3,2,3,3])\n",
        "r3 = np.array([-7,-4,-5,-6])\n",
        "r4 = np.array([-7,-3,-11,2])"
      ],
      "metadata": {
        "id": "cicH6hru5EZM"
      },
      "execution_count": null,
      "outputs": []
    },
    {
      "cell_type": "code",
      "source": [
        "print(\"The first random vector is: \" , r1)"
      ],
      "metadata": {
        "colab": {
          "base_uri": "https://localhost:8080/"
        },
        "id": "M3RbzuqB5iVy",
        "outputId": "06c0b1cb-a09f-43a5-96b6-72488eb20bbf"
      },
      "execution_count": null,
      "outputs": [
        {
          "output_type": "stream",
          "name": "stdout",
          "text": [
            "The first random vector is:  [3 0 3 0]\n"
          ]
        }
      ]
    },
    {
      "cell_type": "markdown",
      "source": [
        "# Process $r_{1}$"
      ],
      "metadata": {
        "id": "3paZwspk5uqg"
      }
    },
    {
      "cell_type": "code",
      "source": [
        "# Choose the r1 vector and subtract off the \"Nice\" Orthogonal piece\n",
        "t1 = r1\n",
        "print(\"t1 = \", t1)\n",
        "\n",
        "# Find the size(magnitude) of t1:\n",
        "m = np.sqrt(t1.dot(t1))\n",
        "print(\"The size of t1 is \", m)\n",
        "\n",
        "#The nice vector is u1 = t1 / m:\n",
        "u1 = (1/m)*t1\n",
        "print(\"the nice vector is u1 = \", u1)"
      ],
      "metadata": {
        "colab": {
          "base_uri": "https://localhost:8080/"
        },
        "id": "cSKlivnN55XZ",
        "outputId": "fd53443f-8278-4daa-e54e-e879621ddecb"
      },
      "execution_count": null,
      "outputs": [
        {
          "output_type": "stream",
          "name": "stdout",
          "text": [
            "t1 =  [3 0 3 0]\n",
            "The size of t1 is  4.242640687119285\n",
            "the nice vector is u1 =  [0.70710678 0.         0.70710678 0.        ]\n"
          ]
        }
      ]
    },
    {
      "cell_type": "code",
      "source": [
        "# Sanity check:\n",
        "print(\"the size of u1 = \", np.sqrt(u1.dot(u1)))"
      ],
      "metadata": {
        "colab": {
          "base_uri": "https://localhost:8080/"
        },
        "id": "WL0xojCy7iHg",
        "outputId": "ecd9822e-8ce2-458e-e4f4-c03210fbb207"
      },
      "execution_count": null,
      "outputs": [
        {
          "output_type": "stream",
          "name": "stdout",
          "text": [
            "the size of u1 =  1.0\n"
          ]
        }
      ]
    },
    {
      "cell_type": "markdown",
      "source": [
        "# Process $r_{2}$"
      ],
      "metadata": {
        "id": "7CaWWioT7uSG"
      }
    },
    {
      "cell_type": "code",
      "source": [
        "# Choose the r2 vector and subtract off the \"Nice\" Orthogonal piece\n",
        "t2 = r2 - (r2.dot(u1) * u1)\n",
        "print(\"t2 = \", t2)\n",
        "\n",
        "# Find the size(magnitude) of t1:\n",
        "m = np.sqrt(t2.dot(t2))\n",
        "print(\"The magnitude of t2 is \", m)\n",
        "\n",
        "#The nice vector is u2 = t2 / m:\n",
        "u2 = t2/m\n",
        "print(\"the nice vector is u2 = \", u2)"
      ],
      "metadata": {
        "colab": {
          "base_uri": "https://localhost:8080/"
        },
        "id": "qdgHMGzJ7zLn",
        "outputId": "6b0be22a-e06e-44d5-eaf7-5b19dd62a76a"
      },
      "execution_count": null,
      "outputs": [
        {
          "output_type": "stream",
          "name": "stdout",
          "text": [
            "t2 =  [-4.4408921e-16  2.0000000e+00 -4.4408921e-16  3.0000000e+00]\n",
            "The magnitude of t2 is  3.605551275463989\n",
            "the nice vector is u2 =  [-1.23168186e-16  5.54700196e-01 -1.23168186e-16  8.32050294e-01]\n"
          ]
        }
      ]
    },
    {
      "cell_type": "code",
      "source": [
        "# Sanity check:\n",
        "print(\"the size of u2 = \", np.sqrt(u2.dot(u2)))"
      ],
      "metadata": {
        "colab": {
          "base_uri": "https://localhost:8080/"
        },
        "id": "4dlQBrrk9fVn",
        "outputId": "7addb3ee-1f5f-4f20-d96c-86da277d3431"
      },
      "execution_count": null,
      "outputs": [
        {
          "output_type": "stream",
          "name": "stdout",
          "text": [
            "the size of u2 =  1.0\n"
          ]
        }
      ]
    },
    {
      "cell_type": "code",
      "source": [
        "# Sanity check:\n",
        "print(\"the size of u1 = \", np.sqrt(u1.dot(u1)))\n",
        "print(\"the size of u2 = \", np.sqrt(u2.dot(u2)))\n",
        "\n",
        "print(\"u1 . u2\", u1.dot(u2))"
      ],
      "metadata": {
        "colab": {
          "base_uri": "https://localhost:8080/"
        },
        "id": "gKIa6O-f8zq6",
        "outputId": "47daac27-5dcb-400f-aede-53a414d69860"
      },
      "execution_count": null,
      "outputs": [
        {
          "output_type": "stream",
          "name": "stdout",
          "text": [
            "the size of u1 =  1.0\n",
            "the size of u2 =  0.9999999999999999\n",
            "u1 . u2 -1.3877787807814457e-16\n"
          ]
        }
      ]
    }
  ]
}