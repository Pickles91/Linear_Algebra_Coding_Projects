{
  "nbformat": 4,
  "nbformat_minor": 0,
  "metadata": {
    "colab": {
      "provenance": [],
      "authorship_tag": "ABX9TyOJXNQ4lqs3k9WdbsWFeuKm",
      "include_colab_link": true
    },
    "kernelspec": {
      "name": "python3",
      "display_name": "Python 3"
    },
    "language_info": {
      "name": "python"
    }
  },
  "cells": [
    {
      "cell_type": "markdown",
      "metadata": {
        "id": "view-in-github",
        "colab_type": "text"
      },
      "source": [
        "<a href=\"https://colab.research.google.com/github/Pickles91/Linear_Algebra_Coding_Projects/blob/main/Gram_Schmidt_from_Scratch.ipynb\" target=\"_parent\"><img src=\"https://colab.research.google.com/assets/colab-badge.svg\" alt=\"Open In Colab\"/></a>"
      ]
    },
    {
      "cell_type": "code",
      "execution_count": 58,
      "metadata": {
        "id": "ZdwrvW-T1EK3"
      },
      "outputs": [],
      "source": [
        "import matplotlib.pyplot as plt\n",
        "from sympy import Poly\n",
        "import sympy as sym\n",
        "import numpy as np\n",
        "from numpy import c_\n",
        "\n",
        "# We'll specify that x and t are variables:\n",
        "x, t = sym.symbols('x, t')\n",
        "\n",
        "ll = \"loaded\""
      ]
    },
    {
      "cell_type": "markdown",
      "source": [
        "# Let's figure out how to do vector operations:"
      ],
      "metadata": {
        "id": "cKyP4gqB1cxb"
      }
    },
    {
      "cell_type": "code",
      "source": [
        "# create a vector:\n",
        "r1= np.array([1,2,3])\n",
        "r1"
      ],
      "metadata": {
        "colab": {
          "base_uri": "https://localhost:8080/"
        },
        "id": "G0BENF6Y10_C",
        "outputId": "a2a741db-a7d2-4a99-f40d-ece4a2b4456a"
      },
      "execution_count": 59,
      "outputs": [
        {
          "output_type": "execute_result",
          "data": {
            "text/plain": [
              "array([1, 2, 3])"
            ]
          },
          "metadata": {},
          "execution_count": 59
        }
      ]
    },
    {
      "cell_type": "code",
      "source": [
        "# Vector Arithmetic:\n",
        "-3 * r1"
      ],
      "metadata": {
        "colab": {
          "base_uri": "https://localhost:8080/"
        },
        "id": "a8Mjbq372jPJ",
        "outputId": "e6581fdd-ed57-435a-a661-c29d56ee836b"
      },
      "execution_count": 60,
      "outputs": [
        {
          "output_type": "execute_result",
          "data": {
            "text/plain": [
              "array([-3, -6, -9])"
            ]
          },
          "metadata": {},
          "execution_count": 60
        }
      ]
    },
    {
      "cell_type": "code",
      "source": [
        "# Vector dot products\n",
        "r1.dot(r1)"
      ],
      "metadata": {
        "colab": {
          "base_uri": "https://localhost:8080/"
        },
        "id": "4XLweAdE2zXM",
        "outputId": "8d8c5efd-a460-46d2-ef83-71bb92cfe522"
      },
      "execution_count": 61,
      "outputs": [
        {
          "output_type": "execute_result",
          "data": {
            "text/plain": [
              "14"
            ]
          },
          "metadata": {},
          "execution_count": 61
        }
      ]
    },
    {
      "cell_type": "code",
      "source": [
        "# Magnitude\n",
        "np.sqrt(r1.dot(r1))"
      ],
      "metadata": {
        "colab": {
          "base_uri": "https://localhost:8080/"
        },
        "id": "HbwjMKnt2_83",
        "outputId": "c4c91cac-0506-4e63-b94a-92e71d3e4c88"
      },
      "execution_count": 62,
      "outputs": [
        {
          "output_type": "execute_result",
          "data": {
            "text/plain": [
              "3.7416573867739413"
            ]
          },
          "metadata": {},
          "execution_count": 62
        }
      ]
    },
    {
      "cell_type": "markdown",
      "source": [
        "# # Implement Gram Schmidt on 4 vectors"
      ],
      "metadata": {
        "id": "tseuBPKe4UGU"
      }
    },
    {
      "cell_type": "code",
      "source": [
        "# Original , Random Vectors\n",
        "r1 = np.array([3,0,3,0])\n",
        "r2 = np.array([3,2,3,3])\n",
        "r3 = np.array([-7,-4,-5,-6])\n",
        "r4 = np.array([-7,-3,-11,2])"
      ],
      "metadata": {
        "id": "cicH6hru5EZM"
      },
      "execution_count": 63,
      "outputs": []
    },
    {
      "cell_type": "code",
      "source": [
        "print(\"The first random vector is: \" , r1)"
      ],
      "metadata": {
        "colab": {
          "base_uri": "https://localhost:8080/"
        },
        "id": "M3RbzuqB5iVy",
        "outputId": "2d71d728-4331-42ea-d255-6e7dd66e018e"
      },
      "execution_count": 64,
      "outputs": [
        {
          "output_type": "stream",
          "name": "stdout",
          "text": [
            "The first random vector is:  [3 0 3 0]\n"
          ]
        }
      ]
    },
    {
      "cell_type": "markdown",
      "source": [
        "# Process $r_{1}$"
      ],
      "metadata": {
        "id": "3paZwspk5uqg"
      }
    },
    {
      "cell_type": "code",
      "source": [
        "# Choose the r1 vector and subtract off the \"Nice\" Orthogonal piece\n",
        "t1 = r1\n",
        "print(\"t1 = \", t1)\n",
        "\n",
        "# Find the size(magnitude) of t1:\n",
        "m = np.sqrt(t1.dot(t1))\n",
        "print(\"The size of t1 is \", m)\n",
        "\n",
        "#The nice vector is u1 = t1 / m:\n",
        "u1 = (1/m)*t1\n",
        "print(\"the nice vector is u1 = \", u1)"
      ],
      "metadata": {
        "colab": {
          "base_uri": "https://localhost:8080/"
        },
        "id": "cSKlivnN55XZ",
        "outputId": "19fa3f09-9c2c-44ea-8d7e-8c41b84a492c"
      },
      "execution_count": 65,
      "outputs": [
        {
          "output_type": "stream",
          "name": "stdout",
          "text": [
            "t1 =  [3 0 3 0]\n",
            "The size of t1 is  4.242640687119285\n",
            "the nice vector is u1 =  [0.70710678 0.         0.70710678 0.        ]\n"
          ]
        }
      ]
    },
    {
      "cell_type": "code",
      "source": [
        "# Sanity check:\n",
        "print(\"the size of u1 = \", np.sqrt(u1.dot(u1)))"
      ],
      "metadata": {
        "colab": {
          "base_uri": "https://localhost:8080/"
        },
        "id": "WL0xojCy7iHg",
        "outputId": "16f3e1f4-de72-4ff6-cc08-182ef2bebc94"
      },
      "execution_count": 66,
      "outputs": [
        {
          "output_type": "stream",
          "name": "stdout",
          "text": [
            "the size of u1 =  1.0\n"
          ]
        }
      ]
    },
    {
      "cell_type": "markdown",
      "source": [
        "# Process $r_{2}$"
      ],
      "metadata": {
        "id": "7CaWWioT7uSG"
      }
    },
    {
      "cell_type": "code",
      "source": [
        "# Choose the r2 vector and subtract off the \"Nice\" Orthogonal piece\n",
        "t2 = r2 - (r2.dot(u1) * u1)\n",
        "print(\"t2 = \", t2)\n",
        "\n",
        "# Find the size(magnitude) of t1:\n",
        "m = np.sqrt(t2.dot(t2))\n",
        "print(\"The magnitude of t2 is \", m)\n",
        "\n",
        "#The nice vector is u2 = t2 / m:\n",
        "u2 = t2/m\n",
        "print(\"the nice vector is u2 = \", u2)"
      ],
      "metadata": {
        "colab": {
          "base_uri": "https://localhost:8080/"
        },
        "id": "qdgHMGzJ7zLn",
        "outputId": "3642a0b4-7fde-448b-f00b-6dea3c6b349b"
      },
      "execution_count": 67,
      "outputs": [
        {
          "output_type": "stream",
          "name": "stdout",
          "text": [
            "t2 =  [-4.4408921e-16  2.0000000e+00 -4.4408921e-16  3.0000000e+00]\n",
            "The magnitude of t2 is  3.605551275463989\n",
            "the nice vector is u2 =  [-1.23168186e-16  5.54700196e-01 -1.23168186e-16  8.32050294e-01]\n"
          ]
        }
      ]
    },
    {
      "cell_type": "code",
      "source": [
        "# Sanity check:\n",
        "print(\"the size of u2 = \", np.sqrt(u2.dot(u2)))"
      ],
      "metadata": {
        "colab": {
          "base_uri": "https://localhost:8080/"
        },
        "id": "4dlQBrrk9fVn",
        "outputId": "7b93f363-bbbe-4f02-9ac7-1ba2e64548de"
      },
      "execution_count": 68,
      "outputs": [
        {
          "output_type": "stream",
          "name": "stdout",
          "text": [
            "the size of u2 =  1.0\n"
          ]
        }
      ]
    },
    {
      "cell_type": "code",
      "source": [
        "# Sanity check:\n",
        "print(\"the size of u1 = \", np.sqrt(u1.dot(u1)))\n",
        "print(\"the size of u2 = \", np.sqrt(u2.dot(u2)))\n",
        "\n",
        "print(\"u1 . u2\", u1.dot(u2))"
      ],
      "metadata": {
        "colab": {
          "base_uri": "https://localhost:8080/"
        },
        "id": "gKIa6O-f8zq6",
        "outputId": "39e7f252-29f0-46d5-fde4-bbb0296bf4b1"
      },
      "execution_count": 69,
      "outputs": [
        {
          "output_type": "stream",
          "name": "stdout",
          "text": [
            "the size of u1 =  1.0\n",
            "the size of u2 =  1.0\n",
            "u1 . u2 -1.741861189847285e-16\n"
          ]
        }
      ]
    },
    {
      "cell_type": "markdown",
      "source": [
        "# Process $r_{3}$"
      ],
      "metadata": {
        "id": "xIkPISou81Sl"
      }
    },
    {
      "cell_type": "code",
      "source": [
        "# Choose the r3 vector and subtract off the \"Nice\" Orthogonal piece\n",
        "t3 = r3 - (r3.dot(u1) * u1) - (r3.dot(u2) * u2)\n",
        "print(\"t3 = \", t3)\n",
        "\n",
        "# Find the size(magnitude) of t3:\n",
        "m = np.sqrt(t3.dot(t3))\n",
        "print(\"The magnitude of t3 is \", m)\n",
        "\n",
        "#The nice vector is u3 = t3 / m:\n",
        "u3 = t3/m\n",
        "print(\"the nice vector is u3 = \", u3)"
      ],
      "metadata": {
        "colab": {
          "base_uri": "https://localhost:8080/"
        },
        "id": "nOcngaYY8-oF",
        "outputId": "d9658ece-dd95-44c5-8f27-df5a449b9222"
      },
      "execution_count": 78,
      "outputs": [
        {
          "output_type": "stream",
          "name": "stdout",
          "text": [
            "t3 =  [-1.0000000e+00 -4.4408921e-16  1.0000000e+00 -8.8817842e-16]\n",
            "The magnitude of t3 is  1.4142135623730951\n",
            "the nice vector is u3 =  [-7.07106781e-01 -3.14018492e-16  7.07106781e-01 -6.28036983e-16]\n"
          ]
        }
      ]
    },
    {
      "cell_type": "code",
      "source": [
        "# Sanity check:\n",
        "print(\"the size(magnitude) of u3 = \", np.sqrt(u3.dot(u3)))"
      ],
      "metadata": {
        "colab": {
          "base_uri": "https://localhost:8080/"
        },
        "id": "zLVvR1L19SQF",
        "outputId": "7d545af2-b613-43da-e468-18c9ad932664"
      },
      "execution_count": 79,
      "outputs": [
        {
          "output_type": "stream",
          "name": "stdout",
          "text": [
            "the size(magnitude) of u3 =  0.9999999999999999\n"
          ]
        }
      ]
    },
    {
      "cell_type": "code",
      "source": [
        "print(\"the size(magnitude) of u1 = \", np.sqrt(u1.dot(u1)))\n",
        "print(\"the size(magnitude) of u2 = \", np.sqrt(u2.dot(u2)))\n",
        "print(\"the size(magnitude) of u3 = \", np.sqrt(u3.dot(u3)))\n",
        "\n",
        "print(\"u1 . u2\", u1.dot(u2))"
      ],
      "metadata": {
        "colab": {
          "base_uri": "https://localhost:8080/"
        },
        "id": "rQZRmT3P9fA7",
        "outputId": "2c9f9584-3a55-47b1-b952-b1c440e20890"
      },
      "execution_count": 80,
      "outputs": [
        {
          "output_type": "stream",
          "name": "stdout",
          "text": [
            "the size(magnitude) of u1 =  1.0\n",
            "the size(magnitude) of u2 =  1.0\n",
            "the size(magnitude) of u3 =  0.9999999999999999\n",
            "u1 . u2 -1.741861189847285e-16\n"
          ]
        }
      ]
    },
    {
      "cell_type": "markdown",
      "source": [
        "# Process $r_{4}$\n",
        "\n"
      ],
      "metadata": {
        "id": "OAJmkQP--c7-"
      }
    },
    {
      "cell_type": "code",
      "source": [
        "# Choose the r4 vector and subtract off the \"Nice\" Orthogonal piece\n",
        "t4 = r4 - (r4.dot(u1) * u1) - (r4.dot(u2) * u2) - (r4.dot(u3) * u3)\n",
        "print(\"t4 = \", t4)\n",
        "\n",
        "# Find the size(magnitude) of t3:\n",
        "m = np.sqrt(t4.dot(t4))\n",
        "print(\"The magnitude of t4 is \", m)\n",
        "\n",
        "#The nice vector is u3 = t3 / m:\n",
        "u4 = t4/m\n",
        "print(\"the nice vector is u4 = \", u4)"
      ],
      "metadata": {
        "colab": {
          "base_uri": "https://localhost:8080/"
        },
        "id": "M2z7f0LA-lr5",
        "outputId": "1cc31d94-112d-4011-9d77-306301dcd011"
      },
      "execution_count": 81,
      "outputs": [
        {
          "output_type": "stream",
          "name": "stdout",
          "text": [
            "t4 =  [ 0. -3.  0.  2.]\n",
            "The magnitude of t4 is  3.605551275463989\n",
            "the nice vector is u4 =  [ 0.         -0.83205029  0.          0.5547002 ]\n"
          ]
        }
      ]
    },
    {
      "cell_type": "code",
      "source": [
        "# Sanity check:\n",
        "print(\"the size(magnitude) of u4 = \", np.sqrt(u4.dot(u4)))"
      ],
      "metadata": {
        "colab": {
          "base_uri": "https://localhost:8080/"
        },
        "id": "8dzj3G9sAbs9",
        "outputId": "7230afc7-d700-4a0a-8174-6ee8b9a32ee4"
      },
      "execution_count": 74,
      "outputs": [
        {
          "output_type": "stream",
          "name": "stdout",
          "text": [
            "the size(magnitude) of u4 =  1.0\n"
          ]
        }
      ]
    },
    {
      "cell_type": "code",
      "source": [
        "print(\"the size(magnitude) of u1 = \", np.sqrt(u1.dot(u1)))\n",
        "print(\"the size(magnitude) of u2 = \", np.sqrt(u2.dot(u2)))\n",
        "print(\"the size(magnitude) of u3 = \", np.sqrt(u3.dot(u3)))\n",
        "print(\"the size(magnitude) of u4 = \", np.sqrt(u4.dot(u4)))\n",
        "\n",
        "print(\"u1 . u2\", u1.dot(u2))"
      ],
      "metadata": {
        "colab": {
          "base_uri": "https://localhost:8080/"
        },
        "id": "sC5ov_upAtyR",
        "outputId": "007ef6ea-4627-406c-acc4-c30bd94add13"
      },
      "execution_count": 75,
      "outputs": [
        {
          "output_type": "stream",
          "name": "stdout",
          "text": [
            "the size(magnitude) of u1 =  1.0\n",
            "the size(magnitude) of u2 =  1.0\n",
            "the size(magnitude) of u3 =  0.9999999999999999\n",
            "the size(magnitude) of u4 =  1.0\n",
            "u1 . u2 -1.741861189847285e-16\n"
          ]
        }
      ]
    },
    {
      "cell_type": "markdown",
      "source": [
        "# Write $r_{1}$, $r_{2}$, $r_{3}$, and $r_{4}$ in terms of $u_{1}$, $u_{2}$ $u_{3}$, and $u_{4}$"
      ],
      "metadata": {
        "id": "Mxi6oP5z-mTa"
      }
    },
    {
      "cell_type": "code",
      "source": [
        "print(\"r1 = \" , r1.dot(u1), \" u1 + \", r1.dot(u2), \" u2 + \", r1.dot(u3))\n",
        "print(\"r2 = \" , r2.dot(u1), \" u1 + \", r2.dot(u2), \" u2 + \", r2.dot(u3))\n",
        "print(\"r3 = \" , r3.dot(u1), \" u1 + \", r3.dot(u2), \" u2 + \", r3.dot(u3))\n",
        "print(\"r4 = \" , r4.dot(u1), \" u1 + \", r4.dot(u2), \" u2 + \", r4.dot(u3))"
      ],
      "metadata": {
        "colab": {
          "base_uri": "https://localhost:8080/"
        },
        "id": "96SHDSdN_JmO",
        "outputId": "b33e8fad-1165-4c08-9bb9-f302b05c9948"
      },
      "execution_count": 76,
      "outputs": [
        {
          "output_type": "stream",
          "name": "stdout",
          "text": [
            "r1 =  4.242640687119286  u1 +  -7.390091155360101e-16  u2 +  0.0\n",
            "r2 =  4.242640687119286  u1 +  3.6055512754639887  u2 +  -2.3282001602705925e-15\n",
            "r3 =  -8.485281374238571  u1 +  -7.211102550927977  u2 +  1.4142135623730991\n",
            "r4 =  -12.727922061357855  u1 +  2.220446049250313e-15  u2 +  -2.8284271247461903\n"
          ]
        }
      ]
    }
  ]
}